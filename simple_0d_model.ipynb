{
 "cells": [
  {
   "cell_type": "markdown",
   "id": "f956fc91",
   "metadata": {},
   "source": [
    "Summary:\n",
    "- **OLR (Ongoing Longwave Radiation)**: The radiation emitted by the Earth to space.\n",
    "- **ASR (Absorbed Shortwave Radiation)**: The radiation from the Sun that is absorbed by the Earth."
   ]
  },
  {
   "cell_type": "markdown",
   "id": "80b57b04",
   "metadata": {},
   "source": [
    "OLR is calculated by the formula: $$\\text{OLR} = \\sigma * \\tau * T_e^4$$ where $\\sigma$ is the Stephan-Boltmann constant, $\\tau$ is the *transmissivity* of the planet representing the greenhouse effect of the Earth, and $T_e$ is the emission temperature of the Earth."
   ]
  },
  {
   "cell_type": "code",
   "execution_count": 1,
   "id": "4f0ca204",
   "metadata": {},
   "outputs": [],
   "source": [
    "def OLR(tau, t_s):\n",
    "    return 5.67e-8 * tau * t_s ** 4"
   ]
  },
  {
   "cell_type": "markdown",
   "id": "09b54d4e",
   "metadata": {},
   "source": [
    "ASR is calculated by the formula: $$ ASR = (1 - \\alpha) * Q$$ where $\\alpha$ is the *planetary albedo* of the Earth (the amount of radiation the Earth reflected) and $Q$ is the total amount of radiation the Sun radiated to Earth."
   ]
  },
  {
   "cell_type": "code",
   "execution_count": 2,
   "id": "fce28bd6",
   "metadata": {},
   "outputs": [],
   "source": [
    "def ASR(alpha, Q):\n",
    "    return (1 - alpha) * Q"
   ]
  },
  {
   "cell_type": "markdown",
   "id": "7acd376d",
   "metadata": {},
   "source": [
    "Note: $\\alpha$ is calculated by the propotion of radiation being reflected by the Earth compared to the amount of radiation the Sun radiated to Earth.\n",
    "If the amount of radiation refected by the Earth denoted by $F_{\\text{reflected}}$, then $$\\alpha = \\frac{F_{\\text{reflected}}}{Q}$$"
   ]
  },
  {
   "cell_type": "markdown",
   "id": "2e321e67",
   "metadata": {},
   "source": [
    "By the law of thermodynamic, $\\text{OLR} = \\text{ASR}$, and a consequence of that is the *energy* reserve by Earth has to be constant. If, by any reason, the equilibrium is not being upheld (mainly because Earth receives more energy than emitted itself), then the amount of energy in Earth's reservoirs has to increase. Therefore, the emission temperature of the Earth has to also increase."
   ]
  },
  {
   "cell_type": "markdown",
   "id": "e9cec07b",
   "metadata": {},
   "source": [
    "We can represent the increase of temperature by a first-order differentiation equation: \n",
    "$$\\frac{dE}{dt} = \\text{ASR} - \\text{OLR}$$\n",
    "where $E$ is the total amount of energy reserved by the Earth. We can represent $E$ by the global mean surface temperature $T_s$ and the *heat capacity* of the Earth by the formula $E = C \\cdot T_s$.\n",
    "Now, the equation becomes: $$C \\frac{dT_s}{dt} = \\text{ASR} - \\text{OLR}$$"
   ]
  },
  {
   "cell_type": "markdown",
   "id": "05d52ce5",
   "metadata": {},
   "source": []
  },
  {
   "cell_type": "code",
   "execution_count": null,
   "id": "e130758f",
   "metadata": {},
   "outputs": [],
   "source": []
  }
 ],
 "metadata": {
  "kernelspec": {
   "display_name": "Python 3 (ipykernel)",
   "language": "python",
   "name": "python3"
  },
  "language_info": {
   "codemirror_mode": {
    "name": "ipython",
    "version": 3
   },
   "file_extension": ".py",
   "mimetype": "text/x-python",
   "name": "python",
   "nbconvert_exporter": "python",
   "pygments_lexer": "ipython3",
   "version": "3.11.2"
  }
 },
 "nbformat": 4,
 "nbformat_minor": 5
}
